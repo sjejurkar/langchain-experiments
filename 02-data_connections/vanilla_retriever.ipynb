{
 "cells": [
  {
   "cell_type": "code",
   "execution_count": null,
   "metadata": {
    "vscode": {
     "languageId": "shellscript"
    }
   },
   "outputs": [],
   "source": [
    "# !pip install faiss-cpu"
   ]
  },
  {
   "cell_type": "code",
   "execution_count": 6,
   "metadata": {},
   "outputs": [
    {
     "name": "stderr",
     "output_type": "stream",
     "text": [
      "Created a chunk of size 327, which is longer than the specified 256\n",
      "Created a chunk of size 297, which is longer than the specified 256\n",
      "Created a chunk of size 1035, which is longer than the specified 256\n",
      "Created a chunk of size 651, which is longer than the specified 256\n",
      "Created a chunk of size 308, which is longer than the specified 256\n",
      "Created a chunk of size 317, which is longer than the specified 256\n",
      "Created a chunk of size 283, which is longer than the specified 256\n",
      "Created a chunk of size 383, which is longer than the specified 256\n",
      "Created a chunk of size 302, which is longer than the specified 256\n",
      "Created a chunk of size 509, which is longer than the specified 256\n",
      "Created a chunk of size 379, which is longer than the specified 256\n",
      "Created a chunk of size 1144, which is longer than the specified 256\n",
      "Created a chunk of size 456, which is longer than the specified 256\n",
      "Created a chunk of size 291, which is longer than the specified 256\n",
      "Created a chunk of size 322, which is longer than the specified 256\n",
      "Created a chunk of size 463, which is longer than the specified 256\n",
      "Created a chunk of size 334, which is longer than the specified 256\n",
      "Created a chunk of size 282, which is longer than the specified 256\n",
      "Created a chunk of size 372, which is longer than the specified 256\n",
      "Created a chunk of size 405, which is longer than the specified 256\n",
      "Created a chunk of size 299, which is longer than the specified 256\n",
      "Created a chunk of size 348, which is longer than the specified 256\n",
      "Created a chunk of size 1576, which is longer than the specified 256\n",
      "Created a chunk of size 345, which is longer than the specified 256\n",
      "Created a chunk of size 490, which is longer than the specified 256\n",
      "Created a chunk of size 287, which is longer than the specified 256\n",
      "Created a chunk of size 312, which is longer than the specified 256\n",
      "Created a chunk of size 493, which is longer than the specified 256\n",
      "Created a chunk of size 627, which is longer than the specified 256\n",
      "Created a chunk of size 582, which is longer than the specified 256\n",
      "Created a chunk of size 427, which is longer than the specified 256\n",
      "Created a chunk of size 700, which is longer than the specified 256\n",
      "Created a chunk of size 362, which is longer than the specified 256\n",
      "Created a chunk of size 291, which is longer than the specified 256\n",
      "Created a chunk of size 290, which is longer than the specified 256\n",
      "Created a chunk of size 290, which is longer than the specified 256\n",
      "Created a chunk of size 281, which is longer than the specified 256\n",
      "Created a chunk of size 286, which is longer than the specified 256\n",
      "Created a chunk of size 332, which is longer than the specified 256\n",
      "Created a chunk of size 293, which is longer than the specified 256\n",
      "Created a chunk of size 282, which is longer than the specified 256\n",
      "Created a chunk of size 847, which is longer than the specified 256\n",
      "Created a chunk of size 359, which is longer than the specified 256\n",
      "Created a chunk of size 383, which is longer than the specified 256\n",
      "Created a chunk of size 288, which is longer than the specified 256\n",
      "Created a chunk of size 349, which is longer than the specified 256\n",
      "Created a chunk of size 605, which is longer than the specified 256\n",
      "Created a chunk of size 494, which is longer than the specified 256\n",
      "Created a chunk of size 289, which is longer than the specified 256\n",
      "Created a chunk of size 2353, which is longer than the specified 256\n",
      "Created a chunk of size 492, which is longer than the specified 256\n",
      "Created a chunk of size 834, which is longer than the specified 256\n",
      "Created a chunk of size 637, which is longer than the specified 256\n",
      "Created a chunk of size 514, which is longer than the specified 256\n",
      "Created a chunk of size 316, which is longer than the specified 256\n",
      "Created a chunk of size 351, which is longer than the specified 256\n",
      "Created a chunk of size 328, which is longer than the specified 256\n",
      "Created a chunk of size 279, which is longer than the specified 256\n",
      "Created a chunk of size 341, which is longer than the specified 256\n",
      "Created a chunk of size 734, which is longer than the specified 256\n",
      "Created a chunk of size 372, which is longer than the specified 256\n",
      "Created a chunk of size 274, which is longer than the specified 256\n",
      "Created a chunk of size 696, which is longer than the specified 256\n",
      "Created a chunk of size 536, which is longer than the specified 256\n",
      "Created a chunk of size 350, which is longer than the specified 256\n",
      "Created a chunk of size 381, which is longer than the specified 256\n",
      "Created a chunk of size 1670, which is longer than the specified 256\n"
     ]
    }
   ],
   "source": [
    "from langchain.text_splitter import CharacterTextSplitter\n",
    "from langchain.embeddings import OpenAIEmbeddings\n",
    "from langchain.document_loaders import TextLoader\n",
    "from langchain.vectorstores import FAISS\n",
    "\n",
    "documents = TextLoader(\"../data/US_constitution.txt\").load()\n",
    "text_splitter = CharacterTextSplitter(chunk_size=256, chunk_overlap=0)\n",
    "texts = text_splitter.split_documents(documents)\n",
    "retriever = FAISS.from_documents(texts, OpenAIEmbeddings()).as_retriever()\n",
    "\n",
    "docs = retriever.get_relevant_documents(\"What is the first amendment\")"
   ]
  },
  {
   "cell_type": "code",
   "execution_count": 7,
   "metadata": {},
   "outputs": [
    {
     "data": {
      "text/plain": [
       "[Document(page_content='First Amendment\\nCongress shall make no law respecting an establishment of religion, or prohibiting the free exercise thereof; or abridging the freedom of speech, or of the press; or the right of the people peaceably to assemble, and to petition the Government for a redress of grievances.', metadata={'source': '../data/US_constitution.txt'}),\n",
       " Document(page_content='Second Amendment\\nA well regulated Militia, being necessary to the security of a free State, the right of the people to keep and bear Arms, shall not be infringed.', metadata={'source': '../data/US_constitution.txt'}),\n",
       " Document(page_content='Ninth Amendment\\nThe enumeration in the Constitution, of certain rights, shall not be construed to deny or disparage others retained by the people.', metadata={'source': '../data/US_constitution.txt'}),\n",
       " Document(page_content='Fourth Amendment\\nThe right of the people to be secure in their persons, houses, papers, and effects, against unreasonable searches and seizures, shall not be violated, and no Warrants shall issue, but upon probable cause, supported by Oath or affirmation, and particularly describing the place to be searched, and the persons or things to be seized.', metadata={'source': '../data/US_constitution.txt'})]"
      ]
     },
     "execution_count": 7,
     "metadata": {},
     "output_type": "execute_result"
    }
   ],
   "source": [
    "docs"
   ]
  }
 ],
 "metadata": {
  "kernelspec": {
   "display_name": ".venv",
   "language": "python",
   "name": "python3"
  },
  "language_info": {
   "codemirror_mode": {
    "name": "ipython",
    "version": 3
   },
   "file_extension": ".py",
   "mimetype": "text/x-python",
   "name": "python",
   "nbconvert_exporter": "python",
   "pygments_lexer": "ipython3",
   "version": "3.11.1"
  }
 },
 "nbformat": 4,
 "nbformat_minor": 2
}
