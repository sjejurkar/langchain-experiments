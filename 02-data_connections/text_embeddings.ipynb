{
 "cells": [
  {
   "cell_type": "code",
   "execution_count": 2,
   "metadata": {},
   "outputs": [],
   "source": [
    "from langchain.embeddings import OpenAIEmbeddings"
   ]
  },
  {
   "cell_type": "code",
   "execution_count": 7,
   "metadata": {},
   "outputs": [],
   "source": [
    "simple_text = \"This is a simple text. We will just take this and convert into an embedding.\"\n",
    "\n",
    "embeddings = OpenAIEmbeddings()\n",
    "embedded_text = embeddings.embed_query(text=simple_text)\n",
    "print(f\"len(text)={len(simple_text)}  len(embedded_text)={len(embedded_text)}\")\n",
    "# print(embedded_text)"
   ]
  },
  {
   "cell_type": "code",
   "execution_count": 10,
   "metadata": {},
   "outputs": [],
   "source": [
    "from langchain.document_loaders import CSVLoader\n",
    "\n",
    "loader = CSVLoader(\"../data/penguins.csv\")\n",
    "data = loader.load()\n",
    "\n",
    "# [text.page_content for text in data]\n",
    "\n",
    "embedded_docs = embeddings.embed_documents([text.page_content for text in data])"
   ]
  }
 ],
 "metadata": {
  "kernelspec": {
   "display_name": ".venv",
   "language": "python",
   "name": "python3"
  },
  "language_info": {
   "codemirror_mode": {
    "name": "ipython",
    "version": 3
   },
   "file_extension": ".py",
   "mimetype": "text/x-python",
   "name": "python",
   "nbconvert_exporter": "python",
   "pygments_lexer": "ipython3",
   "version": "3.11.1"
  }
 },
 "nbformat": 4,
 "nbformat_minor": 2
}
