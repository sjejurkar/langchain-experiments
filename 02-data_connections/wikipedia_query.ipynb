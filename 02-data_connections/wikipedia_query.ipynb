{
 "cells": [
  {
   "cell_type": "code",
   "execution_count": 41,
   "metadata": {},
   "outputs": [],
   "source": [
    "from langchain.document_loaders import WikipediaLoader\n",
    "from langchain.chat_models import ChatOpenAI\n",
    "from langchain.prompts import (\n",
    "    ChatPromptTemplate,\n",
    "    SystemMessagePromptTemplate,\n",
    "    HumanMessagePromptTemplate,\n",
    ")\n",
    "from langchain.callbacks import get_openai_callback"
   ]
  },
  {
   "cell_type": "code",
   "execution_count": 53,
   "metadata": {},
   "outputs": [],
   "source": [
    "def answer_question_about(person_name,question):\n",
    "    \n",
    "    '''\n",
    "    Use the Wikipedia Document Loader to help answer questions about someone, insert it as additional helpful context.\n",
    "    '''\n",
    "    \n",
    "    wiki_loader = WikipediaLoader(query=person_name, load_max_docs=1)\n",
    "    wiki_article = wiki_loader.load()\n",
    "    wiki_content = wiki_article[0].page_content\n",
    "    wiki_page = wiki_article[0].metadata['source']\n",
    "    print(f\"Wiki page: {wiki_page}\")\n",
    "\n",
    "    human_message_prompt = HumanMessagePromptTemplate.from_template('{wiki_content}\\n\\n{question}')\n",
    "    chat_prompt = ChatPromptTemplate.from_messages([human_message_prompt])\n",
    "    request = chat_prompt.format_prompt(wiki_content=wiki_content, question=question).to_messages()\n",
    "\n",
    "    chat = ChatOpenAI()\n",
    "    with get_openai_callback() as cb:\n",
    "        response = chat(request)\n",
    "        print(f\"----------\\n{cb}\\n----------\")\n",
    "    \n",
    "    print(f\"Response={response.content}\")\n",
    "\n",
    "   "
   ]
  },
  {
   "cell_type": "code",
   "execution_count": 56,
   "metadata": {},
   "outputs": [
    {
     "name": "stdout",
     "output_type": "stream",
     "text": [
      "Wiki page: https://en.wikipedia.org/wiki/Elon_Musk\n",
      "----------\n",
      "Tokens Used: 897\n",
      "\tPrompt Tokens: 883\n",
      "\tCompletion Tokens: 14\n",
      "Successful Requests: 1\n",
      "Total Cost (USD): $0.0013525\n",
      "----------\n",
      "Response=Elon Musk was born on June 28, 1971.\n"
     ]
    }
   ],
   "source": [
    "answer_question_about(\"Elon Musk\", \"When was he born?\")"
   ]
  }
 ],
 "metadata": {
  "kernelspec": {
   "display_name": ".venv",
   "language": "python",
   "name": "python3"
  },
  "language_info": {
   "codemirror_mode": {
    "name": "ipython",
    "version": 3
   },
   "file_extension": ".py",
   "mimetype": "text/x-python",
   "name": "python",
   "nbconvert_exporter": "python",
   "pygments_lexer": "ipython3",
   "version": "3.11.1"
  }
 },
 "nbformat": 4,
 "nbformat_minor": 2
}
