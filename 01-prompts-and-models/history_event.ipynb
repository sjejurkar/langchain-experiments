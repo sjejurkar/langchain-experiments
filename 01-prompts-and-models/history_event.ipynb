{
 "cells": [
  {
   "cell_type": "code",
   "execution_count": 42,
   "metadata": {},
   "outputs": [],
   "source": [
    "from langchain.prompts import (\n",
    "    ChatPromptTemplate,\n",
    "    PromptTemplate,\n",
    "    SystemMessagePromptTemplate,\n",
    "    AIMessagePromptTemplate,\n",
    "    HumanMessagePromptTemplate,\n",
    ")\n",
    "import datetime\n",
    "from langchain.llms import OpenAI\n",
    "from langchain.output_parsers import DatetimeOutputParser\n",
    "from langchain.chat_models import ChatOpenAI\n",
    "from langchain.callbacks import get_openai_callback"
   ]
  },
  {
   "cell_type": "code",
   "execution_count": 43,
   "metadata": {},
   "outputs": [],
   "source": [
    "class HistoryQuiz():\n",
    "    system_message_prompt = SystemMessagePromptTemplate.from_template('You are a history buff who knows dates of all historical events')\n",
    "    chat = ChatOpenAI()\n",
    "    \n",
    "    def create_history_question(self,topic):\n",
    "        '''\n",
    "        This method should output a historical question about the topic that has a date as the correct answer.\n",
    "        For example:\n",
    "        \n",
    "            \"On what date did World War 2 end?\"\n",
    "            \n",
    "        '''\n",
    "        human_message_prompt = HumanMessagePromptTemplate.from_template('Create a historical question about {topic} \\\n",
    "                                                                        that has date as the correct answer')\n",
    "        chat_prompt = ChatPromptTemplate.from_messages([HistoryQuiz.system_message_prompt, human_message_prompt])\n",
    "        request = chat_prompt.format_prompt(topic=topic).to_messages()\n",
    "        # chat = ChatOpenAI()\n",
    "\n",
    "        question = None\n",
    "        with get_openai_callback() as cb:\n",
    "            question = HistoryQuiz.chat(request, temperature=0.0)\n",
    "            print(f\"---- History Question ------\\n{cb}\\n----------\")\n",
    "       \n",
    "        return question.content\n",
    "    \n",
    "    def get_AI_answer(self,question):\n",
    "        '''\n",
    "        This method should get the answer to the historical question from the method above.\n",
    "        Note: This answer must be in datetime format! Use DateTimeOutputParser to confirm!\n",
    "        \n",
    "        September 2, 1945 --> datetime.datetime(1945, 9, 2, 0, 0)\n",
    "        '''\n",
    "        print(f\"Question={question}\")\n",
    "        # date_format = \"%Y-%m-%dT%H:%M:%S.%fZ\"\n",
    "\n",
    "        date_output_parser = DatetimeOutputParser()\n",
    "        print(date_output_parser.get_format_instructions())\n",
    "        human_template = \"\"\"\n",
    "        Answer the following question and return only the date as answer: {question}\n",
    "\n",
    "        {format_instructions}\n",
    "        \"\"\"\n",
    "        human_message_prompt = HumanMessagePromptTemplate.from_template(human_template)\n",
    "        chat_prompt = ChatPromptTemplate.from_messages([HistoryQuiz.system_message_prompt, human_message_prompt])\n",
    "        request = chat_prompt.format_prompt(question=question, format_instructions=date_output_parser.get_format_instructions()).to_messages()\n",
    "        # chat = ChatOpenAI()\n",
    "\n",
    "        topic_date_str = None\n",
    "        with get_openai_callback() as cb:\n",
    "            topic_date_str = HistoryQuiz.chat(request, temperature=0.0)\n",
    "            print(f\"----------\\n{cb}\\n----------\")\n",
    "        \n",
    "        topic_date = date_output_parser.parse(topic_date_str.content)\n",
    "        return topic_date\n",
    "    \n",
    "    def get_user_answer(self,question):\n",
    "        '''\n",
    "        This method should grab a user answer and convert it to datetime. It should collect a Year, Month, and Day.\n",
    "        You can just use input() for this.\n",
    "        '''\n",
    "        print(f\"Question={question}\")\n",
    "        \n",
    "        user_year = int(input(\"Enter the year: \"))\n",
    "        user_month = int(input(\"Enter the month (1-12): \"))\n",
    "        user_day = int(input(\"Enter the day (1-31): \"))\n",
    "\n",
    "        return datetime.datetime(user_year, user_month, user_day)\n",
    "\n",
    "    def check_user_answer(self,user_answer,ai_answer):\n",
    "        '''\n",
    "        Should check the user answer against the AI answer and return the difference between them\n",
    "        '''\n",
    "        difference = user_answer - ai_answer\n",
    "        formatted_difference = str(difference)\n",
    "        print(f\"The difference between your guess and bot's answer is: {formatted_difference}\") \n",
    "        \n"
   ]
  },
  {
   "cell_type": "code",
   "execution_count": 44,
   "metadata": {},
   "outputs": [
    {
     "name": "stdout",
     "output_type": "stream",
     "text": [
      "---- History Question ------\n",
      "Tokens Used: 56\n",
      "\tPrompt Tokens: 38\n",
      "\tCompletion Tokens: 18\n",
      "Successful Requests: 1\n",
      "Total Cost (USD): $9.300000000000001e-05\n",
      "----------\n"
     ]
    },
    {
     "data": {
      "text/plain": [
       "'What was the date when the United States officially withdrew its combat troops from the Vietnam War?'"
      ]
     },
     "execution_count": 44,
     "metadata": {},
     "output_type": "execute_result"
    }
   ],
   "source": [
    "quiz_bot = HistoryQuiz()\n",
    "question = quiz_bot.create_history_question(topic='Vietnam War')\n",
    "question"
   ]
  },
  {
   "cell_type": "code",
   "execution_count": 45,
   "metadata": {},
   "outputs": [
    {
     "name": "stdout",
     "output_type": "stream",
     "text": [
      "Question=What was the date when the United States officially withdrew its combat troops from the Vietnam War?\n",
      "Write a datetime string that matches the \n",
      "            following pattern: \"%Y-%m-%dT%H:%M:%S.%fZ\". Examples: 0557-05-31T08:21:02.140743Z, 0684-05-29T06:06:35.759850Z, 1280-02-19T18:55:10.996330Z\n",
      "----------\n",
      "Tokens Used: 156\n",
      "\tPrompt Tokens: 140\n",
      "\tCompletion Tokens: 16\n",
      "Successful Requests: 1\n",
      "Total Cost (USD): $0.00024200000000000003\n",
      "----------\n"
     ]
    },
    {
     "data": {
      "text/plain": [
       "datetime.datetime(1973, 3, 29, 0, 0)"
      ]
     },
     "execution_count": 45,
     "metadata": {},
     "output_type": "execute_result"
    }
   ],
   "source": [
    "bot_date_answer = quiz_bot.get_AI_answer(question)\n",
    "bot_date_answer"
   ]
  },
  {
   "cell_type": "code",
   "execution_count": 46,
   "metadata": {},
   "outputs": [
    {
     "name": "stdout",
     "output_type": "stream",
     "text": [
      "Question=What was the date when the United States officially withdrew its combat troops from the Vietnam War?\n"
     ]
    }
   ],
   "source": [
    "user_date = quiz_bot.get_user_answer(question)"
   ]
  },
  {
   "cell_type": "code",
   "execution_count": 49,
   "metadata": {},
   "outputs": [
    {
     "data": {
      "text/plain": [
       "datetime.datetime(1973, 12, 31, 0, 0)"
      ]
     },
     "execution_count": 49,
     "metadata": {},
     "output_type": "execute_result"
    }
   ],
   "source": [
    "user_date"
   ]
  },
  {
   "cell_type": "code",
   "execution_count": 51,
   "metadata": {},
   "outputs": [
    {
     "name": "stdout",
     "output_type": "stream",
     "text": [
      "The difference between your guess and bot's answer is: 277 days, 0:00:00\n"
     ]
    }
   ],
   "source": [
    "quiz_bot.check_user_answer(user_date, bot_date_answer)"
   ]
  }
 ],
 "metadata": {
  "kernelspec": {
   "display_name": ".venv",
   "language": "python",
   "name": "python3"
  },
  "language_info": {
   "codemirror_mode": {
    "name": "ipython",
    "version": 3
   },
   "file_extension": ".py",
   "mimetype": "text/x-python",
   "name": "python",
   "nbconvert_exporter": "python",
   "pygments_lexer": "ipython3",
   "version": "3.11.1"
  }
 },
 "nbformat": 4,
 "nbformat_minor": 2
}
