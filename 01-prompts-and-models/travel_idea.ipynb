{
 "cells": [
  {
   "cell_type": "markdown",
   "metadata": {},
   "source": [
    "**Create a Python function that uses Prompts and Chat internally to give travel ideas related to two variables:**\n",
    "\n",
    "    * An Interest or Hobby\n",
    "    * A Budget"
   ]
  },
  {
   "cell_type": "code",
   "execution_count": null,
   "metadata": {},
   "outputs": [],
   "source": [
    "from dotenv import load_dotenv\n",
    "\n",
    "load_dotenv()"
   ]
  },
  {
   "cell_type": "code",
   "execution_count": 21,
   "metadata": {},
   "outputs": [],
   "source": [
    "from langchain.chat_models import ChatOpenAI\n",
    "from langchain.prompts import HumanMessagePromptTemplate, SystemMessagePromptTemplate, ChatPromptTemplate\n",
    "from langchain.callbacks import get_openai_callback"
   ]
  },
  {
   "cell_type": "code",
   "execution_count": 28,
   "metadata": {},
   "outputs": [],
   "source": [
    "def travel_idea(interest: str,budget: str) -> str:\n",
    "    '''\n",
    "    INPUTS:\n",
    "        interest: A str interest or hobby (e.g. fishing)\n",
    "        budget: A str budget (e.g. $10,000)\n",
    "    '''\n",
    "    system_template = \"You are a travel advisor who provides travel suggestions based on the user's interest and budget\"\n",
    "    system_message_prompt = SystemMessagePromptTemplate.from_template(system_template)\n",
    "\n",
    "    human_template=\"Give me a travel itinerary for {interest} for budget of {budget}\"\n",
    "    human_message_prompt = HumanMessagePromptTemplate.from_template(human_template)\n",
    "\n",
    "    chat_prompt = ChatPromptTemplate.from_messages([system_message_prompt, human_message_prompt])\n",
    "\n",
    "    request = chat_prompt.format_prompt(interest=interest, budget=budget).to_messages()\n",
    "    \n",
    "    chat = ChatOpenAI()\n",
    "\n",
    "    with get_openai_callback() as cb:\n",
    "        result = chat(request)\n",
    "        print(f\"----------\\n{cb}\\n----------\")\n",
    "\n",
    "    return(result.content)"
   ]
  },
  {
   "cell_type": "code",
   "execution_count": 29,
   "metadata": {},
   "outputs": [
    {
     "name": "stdout",
     "output_type": "stream",
     "text": [
      "----------\n",
      "Tokens Used: 511\n",
      "\tPrompt Tokens: 42\n",
      "\tCompletion Tokens: 469\n",
      "Successful Requests: 1\n",
      "Total Cost (USD): $0.001001\n",
      "----------\n",
      "Sure! With a budget of $2,000, you can plan a great gambling trip. Here's a suggested itinerary:\n",
      "\n",
      "Day 1-3: Las Vegas, Nevada, USA\n",
      "- Fly into Las Vegas and check into a hotel on the famous Las Vegas Strip.\n",
      "- Spend your days exploring the various casinos and trying your luck at the slot machines, poker tables, or roulette wheels.\n",
      "- Don't forget to catch some of the world-class entertainment shows and indulge in the delicious buffets.\n",
      "- Budget Tip: Look for discounted show tickets and dining deals to make the most of your budget.\n",
      "\n",
      "Day 4-6: Macau, China\n",
      "- Fly from Las Vegas to Macau, the gambling capital of Asia.\n",
      "- Check into a luxurious hotel and explore the vibrant casino scene in Macau.\n",
      "- Visit iconic casinos like the Venetian Macau, MGM Macau, and the Wynn Macau.\n",
      "- Take a break from gambling and explore the city's Portuguese heritage, visit the Ruins of St. Paul's, and enjoy the local cuisine.\n",
      "- Budget Tip: Consider staying in a more affordable hotel in Taipa Village to save on accommodation costs.\n",
      "\n",
      "Day 7-10: Monte Carlo, Monaco\n",
      "- Fly from Macau to Nice, France, and then take a short drive to Monte Carlo, Monaco.\n",
      "- Stay in one of the luxurious hotels near the famous Casino de Monte-Carlo.\n",
      "- Try your luck at the legendary casino where James Bond films were shot.\n",
      "- Take a break from gambling and explore the beautiful city, visit the Prince's Palace, and enjoy the stunning views from the Jardin Exotique.\n",
      "- Budget Tip: Opt for smaller bets or limit your time at the casino to stay within your budget.\n",
      "\n",
      "Day 11-12: Atlantic City, New Jersey, USA\n",
      "- Fly back to the United States and head to Atlantic City, known for its vibrant casino scene.\n",
      "- Check into a hotel on the boardwalk and enjoy gambling at the numerous casinos.\n",
      "- Take a walk along the beach, enjoy the amusement rides, and try some local seafood.\n",
      "- Budget Tip: Look for midweek deals and promotions offered by the casinos to get better value for your money.\n",
      "\n",
      "Remember to set a gambling budget for each destination and stick to it to avoid overspending. Enjoy your gambling adventure!\n"
     ]
    }
   ],
   "source": [
    "# print(travel_idea('fishing','$1,000'))\n",
    "print(travel_idea('gambling','$2,000'))"
   ]
  }
 ],
 "metadata": {
  "kernelspec": {
   "display_name": ".venv",
   "language": "python",
   "name": "python3"
  },
  "language_info": {
   "codemirror_mode": {
    "name": "ipython",
    "version": 3
   },
   "file_extension": ".py",
   "mimetype": "text/x-python",
   "name": "python",
   "nbconvert_exporter": "python",
   "pygments_lexer": "ipython3",
   "version": "3.11.1"
  }
 },
 "nbformat": 4,
 "nbformat_minor": 2
}
