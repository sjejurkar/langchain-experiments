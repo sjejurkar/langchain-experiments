{
 "cells": [
  {
   "cell_type": "code",
   "execution_count": null,
   "metadata": {},
   "outputs": [],
   "source": [
    "from langchain.chat_models import ChatOpenAI\n",
    "from langchain.prompts import ChatPromptTemplate, HumanMessagePromptTemplate, SystemMessagePromptTemplate\n",
    "from langchain.chains import LLMChain, SequentialChain"
   ]
  },
  {
   "cell_type": "code",
   "execution_count": null,
   "metadata": {},
   "outputs": [],
   "source": [
    "def translate_and_summarize(original_text, base_language):\n",
    "    llm = ChatOpenAI(model='gpt-3.5-turbo', temperature=0, timeout=30)\n",
    "\n",
    "    detection_template = ChatPromptTemplate.from_template(\n",
    "        \"Analyze the following email and determine the language. Return only the name of the language:\\n{email}\")\n",
    "    detection_chain = LLMChain(llm=llm, prompt=detection_template, output_key=\"original_language\")\n",
    "\n",
    "    translation_template = ChatPromptTemplate.from_template(\n",
    "        \"Translate the following email from {original_language} to {base_language}:\\n{email}\")\n",
    "    translation_chain = LLMChain(llm=llm, prompt=translation_template, output_key=\"translated_email\")\n",
    "\n",
    "    summarization_template = ChatPromptTemplate.from_template(\n",
    "        \"Summarize the following translated email:\\n{translated_email}\")\n",
    "    summarization_chain = LLMChain(llm=llm, prompt=summarization_template, output_key=\"summary_text\")\n",
    "\n",
    "    final_chain = SequentialChain(\n",
    "        chains=[detection_chain, translation_chain, summarization_chain],\n",
    "        input_variables=[\"email\", \"base_language\"],\n",
    "        output_variables=[\"original_language\", \"translated_email\", \"summary_text\"], verbose=True\n",
    "    )\n",
    "    \n",
    "    output = final_chain({\"email\": original_text, \"base_language\": base_language})\n",
    "\n",
    "    return output"
   ]
  },
  {
   "cell_type": "code",
   "execution_count": null,
   "metadata": {},
   "outputs": [],
   "source": [
    "spanish_email = open('../data/spanish_customer_email.txt').read()"
   ]
  },
  {
   "cell_type": "code",
   "execution_count": null,
   "metadata": {},
   "outputs": [],
   "source": [
    "spanish_email"
   ]
  },
  {
   "cell_type": "code",
   "execution_count": null,
   "metadata": {},
   "outputs": [],
   "source": [
    "base_language = \"English\"\n",
    "result = translate_and_summarize(spanish_email, base_language=base_language)"
   ]
  },
  {
   "cell_type": "code",
   "execution_count": null,
   "metadata": {},
   "outputs": [],
   "source": [
    "result.keys()"
   ]
  },
  {
   "cell_type": "code",
   "execution_count": null,
   "metadata": {},
   "outputs": [],
   "source": [
    "print(result[\"original_language\"])"
   ]
  },
  {
   "cell_type": "code",
   "execution_count": null,
   "metadata": {},
   "outputs": [],
   "source": [
    "print(result[\"translated_email\"])"
   ]
  },
  {
   "cell_type": "code",
   "execution_count": null,
   "metadata": {},
   "outputs": [],
   "source": [
    "print(result[\"summary_text\"])"
   ]
  }
 ],
 "metadata": {
  "kernelspec": {
   "display_name": ".venv",
   "language": "python",
   "name": "python3"
  },
  "language_info": {
   "codemirror_mode": {
    "name": "ipython",
    "version": 3
   },
   "file_extension": ".py",
   "mimetype": "text/x-python",
   "name": "python",
   "nbconvert_exporter": "python",
   "pygments_lexer": "ipython3",
   "version": "3.11.1"
  }
 },
 "nbformat": 4,
 "nbformat_minor": 2
}
